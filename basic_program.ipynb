{
  "nbformat": 4,
  "nbformat_minor": 0,
  "metadata": {
    "colab": {
      "provenance": [],
      "authorship_tag": "ABX9TyOTf9ilqio6bD7oXiFg77Im",
      "include_colab_link": true
    },
    "kernelspec": {
      "name": "python3",
      "display_name": "Python 3"
    },
    "language_info": {
      "name": "python"
    }
  },
  "cells": [
    {
      "cell_type": "markdown",
      "metadata": {
        "id": "view-in-github",
        "colab_type": "text"
      },
      "source": [
        "<a href=\"https://colab.research.google.com/github/Ashu-123-maker/JWT_Tokens/blob/master/basic_program.ipynb\" target=\"_parent\"><img src=\"https://colab.research.google.com/assets/colab-badge.svg\" alt=\"Open In Colab\"/></a>"
      ]
    },
    {
      "cell_type": "code",
      "execution_count": null,
      "metadata": {
        "id": "Cmvhlu3iXdbq"
      },
      "outputs": [],
      "source": [
        "print(\"heloo\")"
      ]
    },
    {
      "cell_type": "code",
      "source": [
        "!git config --global user.email \"asritha.vig238@gmail.com\"\n",
        "!git config --global user.name \"Ashu-123-maker\"\n"
      ],
      "metadata": {
        "id": "ZaYN2fmHXotf"
      },
      "execution_count": 3,
      "outputs": []
    },
    {
      "cell_type": "code",
      "source": [
        "!mkdir basic_program\n",
        "%cd basic_program"
      ],
      "metadata": {
        "colab": {
          "base_uri": "https://localhost:8080/"
        },
        "id": "DDBbPKsufCJx",
        "outputId": "e5251a7e-bd8f-43ab-8c85-f48ca441fdb8"
      },
      "execution_count": 4,
      "outputs": [
        {
          "output_type": "stream",
          "name": "stdout",
          "text": [
            "/content/basic_program\n"
          ]
        }
      ]
    },
    {
      "cell_type": "code",
      "source": [
        "!echo 'print(\"Hello, World!\")' > basic_program.py\n",
        "!git init  # Initialize the Git repository\n",
        "!git add basic_program.py  # Add the file to Git tracking\n",
        "!git commit -m \"Added basic program file\"  # Commit the changes\n"
      ],
      "metadata": {
        "colab": {
          "base_uri": "https://localhost:8080/"
        },
        "id": "T_9Cgtjjfwef",
        "outputId": "28316b40-a194-4ab6-956f-55a7c063fe6b"
      },
      "execution_count": 5,
      "outputs": [
        {
          "output_type": "stream",
          "name": "stdout",
          "text": [
            "\u001b[33mhint: Using 'master' as the name for the initial branch. This default branch name\u001b[m\n",
            "\u001b[33mhint: is subject to change. To configure the initial branch name to use in all\u001b[m\n",
            "\u001b[33mhint: of your new repositories, which will suppress this warning, call:\u001b[m\n",
            "\u001b[33mhint: \u001b[m\n",
            "\u001b[33mhint: \tgit config --global init.defaultBranch <name>\u001b[m\n",
            "\u001b[33mhint: \u001b[m\n",
            "\u001b[33mhint: Names commonly chosen instead of 'master' are 'main', 'trunk' and\u001b[m\n",
            "\u001b[33mhint: 'development'. The just-created branch can be renamed via this command:\u001b[m\n",
            "\u001b[33mhint: \u001b[m\n",
            "\u001b[33mhint: \tgit branch -m <name>\u001b[m\n",
            "Initialized empty Git repository in /content/basic_program/.git/\n",
            "[master (root-commit) d4d2ea0] Added basic program file\n",
            " 1 file changed, 1 insertion(+)\n",
            " create mode 100644 basic_program.py\n"
          ]
        }
      ]
    },
    {
      "cell_type": "code",
      "source": [
        "!git branch -M master\n"
      ],
      "metadata": {
        "id": "V_crgevOhb9Y"
      },
      "execution_count": 6,
      "outputs": []
    },
    {
      "cell_type": "code",
      "source": [
        "!git remote add origin https://github.com/Ashu-123-maker/basic_program.git"
      ],
      "metadata": {
        "id": "pZCakv4Nhswg"
      },
      "execution_count": 7,
      "outputs": []
    },
    {
      "cell_type": "code",
      "source": [
        "!git push -u origin master"
      ],
      "metadata": {
        "colab": {
          "base_uri": "https://localhost:8080/"
        },
        "id": "pDUkKp4qiBWF",
        "outputId": "3d6bd522-ad69-48aa-95e4-bbf1a74f664e"
      },
      "execution_count": 8,
      "outputs": [
        {
          "output_type": "stream",
          "name": "stdout",
          "text": [
            "fatal: could not read Username for 'https://github.com': No such device or address\n"
          ]
        }
      ]
    },
    {
      "cell_type": "code",
      "source": [
        "!git remote set-url origin git@github.com:username/repo.git\n"
      ],
      "metadata": {
        "colab": {
          "base_uri": "https://localhost:8080/",
          "height": 106
        },
        "id": "PnPTdqdDnlG5",
        "outputId": "7dc76b9e-f108-4ba7-d4d1-1c9213dd4710"
      },
      "execution_count": 12,
      "outputs": [
        {
          "output_type": "error",
          "ename": "SyntaxError",
          "evalue": "invalid syntax (<ipython-input-12-4d6ddc040fee>, line 1)",
          "traceback": [
            "\u001b[0;36m  File \u001b[0;32m\"<ipython-input-12-4d6ddc040fee>\"\u001b[0;36m, line \u001b[0;32m1\u001b[0m\n\u001b[0;31m    git remote set-url origin git@github.com:username/repo.git\u001b[0m\n\u001b[0m        ^\u001b[0m\n\u001b[0;31mSyntaxError\u001b[0m\u001b[0;31m:\u001b[0m invalid syntax\n"
          ]
        }
      ]
    },
    {
      "cell_type": "code",
      "source": [],
      "metadata": {
        "id": "iDZjyBcjpAwW"
      },
      "execution_count": null,
      "outputs": []
    }
  ]
}